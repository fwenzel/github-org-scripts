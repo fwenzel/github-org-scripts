{
 "cells": [
  {
   "cell_type": "markdown",
   "metadata": {},
   "source": [
    "# User Search\n",
    "For use to:\n",
    "1. Try to find an account based on random knowledge\n",
    "2. List all orgs they belong to (from a subset)\n",
    "  - You will need org owner permissions to perform these searches"
   ]
  },
  {
   "cell_type": "markdown",
   "metadata": {
    "heading_collapsed": true
   },
   "source": [
    "## Boiler plate\n",
    "Skip/hide this. Common usage is below."
   ]
  },
  {
   "cell_type": "code",
   "execution_count": null,
   "metadata": {
    "hidden": true
   },
   "outputs": [],
   "source": [
    "# print some debug information\n",
    "import github3\n",
    "print(github3.__version__)\n",
    "print(github3.__file__)"
   ]
  },
  {
   "cell_type": "markdown",
   "metadata": {
    "hidden": true
   },
   "source": [
    "If you see this text, you may want to enable the nbextension \"Collapsable Headings\", so you can hide this in common usage."
   ]
  },
  {
   "cell_type": "code",
   "execution_count": null,
   "metadata": {
    "hidden": true,
    "init_cell": true
   },
   "outputs": [],
   "source": [
    "# set values here - you can also override below\n",
    "\n",
    "# get api key from environment, fall back to file\n",
    "import os\n",
    "api_key = os.environ.get(\"GITHUB_PAT\", \"\")\n",
    "if not api_key:\n",
    "    api_key = open(\".credentials\", \"r\").readlines()[1].strip()\n",
    "if not api_key:\n",
    "    raise OSError(\"no GitHub PAT found\")"
   ]
  },
  {
   "cell_type": "code",
   "execution_count": null,
   "metadata": {
    "code_folding": [],
    "hidden": true,
    "init_cell": true
   },
   "outputs": [],
   "source": [
    "orgs_to_check = [  \"mozilla\"\n",
    "                 , \"mozilla-services\"\n",
    "                 , \"mozilla-l10n\"\n",
    "                 , \"mozilla-mobile\"\n",
    "                 , \"mozilla-partners\"\n",
    "                 , \"taskcluster\"\n",
    "                 , \"mozilla-conduit\"\n",
    "                 , \"mozilla-lockwise\"\n",
    "                 , \"mozilla-platform-ops\"\n",
    "                 , \"nss-dev\"\n",
    "                 , \"mozilla-releng\"\n",
    "                 , \"mozilla-private\"\n",
    "                 , \"mozilla-frontend-infra\"\n",
    "                 , \"mozilla-bteam\"\n",
    "                 , \"iodide-project\"\n",
    "                 , \"mozilla-games\"\n",
    "                 , \"mozillaReality\"\n",
    "                 , \"mozilla-standards\"\n",
    "                 , \"mozilla-tw\"\n",
    "                 , \"mozilla-extensions\"\n",
    "                ]"
   ]
  },
  {
   "cell_type": "code",
   "execution_count": null,
   "metadata": {},
   "outputs": [],
   "source": [
    "import time"
   ]
  },
  {
   "cell_type": "code",
   "execution_count": null,
   "metadata": {
    "hidden": true,
    "init_cell": true
   },
   "outputs": [],
   "source": [
    "\n",
    "def print_limits():\n",
    "    reset_max = reset_min = 0\n",
    "    limits = gh.rate_limit()\n",
    "    resources = limits[\"resources\"]\n",
    "    print(\"{:3d} keys: \".format(len(resources.keys())), resources.keys())\n",
    "    print(resources)\n",
    "    for reset in resources:\n",
    "        reset_at = resources[reset][\"reset\"]\n",
    "        reset_max = max(reset_at, reset_max)\n",
    "        if not resources[reset][\"remaining\"]:\n",
    "            reset_min = min(reset_at, reset_min if reset_min else 0)\n",
    "        else:\n",
    "            print(\"remaining for {} {}\".format(reset, resources[reset][\"remaining\"]))\n",
    "\n",
    "    if not reset_min:\n",
    "        print(\"No limits reached currently.\")\n",
    "    else:\n",
    "        print(\"Minimum reset at {} UTC\".format(time.asctime(time.gmtime(reset_min))))\n",
    "    print(\"All reset at {} UTC\".format(time.asctime(time.gmtime(reset_max))))\n",
    "\n",
    "    \n",
    "try:\n",
    "    gh = github3.login(token=api_key)\n",
    "    print(\"You are authenticated as {}\".format(gh.me().login))\n",
    "except github3.exceptions.ForbiddenError, github3.exceptions.ConnectionError:\n",
    "    print_limits()\n",
    "try:\n",
    "    from functools import lru_cache\n",
    "except ImportError:\n",
    "    from backports.functools_lru_cache import lru_cache\n",
    "    \n",
    "print_limits()"
   ]
  },
  {
   "cell_type": "markdown",
   "metadata": {
    "hidden": true
   },
   "source": [
    "From here on, use ``gh`` to access all data"
   ]
  },
  {
   "cell_type": "code",
   "execution_count": null,
   "metadata": {
    "hidden": true,
    "init_cell": true
   },
   "outputs": [],
   "source": [
    "@lru_cache(maxsize=32)\n",
    "def _search_for_user(user):\n",
    "    l = list(gh.search_users(query=\"type:user \"+user))\n",
    "    print(\"found {} potentials for {}\".format(len(l), user))\n",
    "    return l\n",
    "\n",
    "@lru_cache(maxsize=32)\n",
    "def _search_for_org(user):\n",
    "    l = list(gh.search_users(query=\"type:org \"+user))\n",
    "    print(\"found {} potentials for {}\".format(len(l), user))\n",
    "    return l\n",
    "\n",
    "def get_user_counts(user):\n",
    "    l = _search_for_user(user)\n",
    "    for u in l:\n",
    "        yield u\n"
   ]
  },
  {
   "cell_type": "code",
   "execution_count": null,
   "metadata": {
    "hidden": true,
    "init_cell": true
   },
   "outputs": [],
   "source": [
    "displayed_users = set() # cache to avoid duplicate output\n",
    "def show_users(user_list, search_term):\n",
    "    global displayed_users\n",
    "    unique_users = set(user_list)\n",
    "    count = len(unique_users)\n",
    "    if count >10:\n",
    "        # Even if there are too many, we still want to check the 'root' term, if it matched\n",
    "        seed_user = gh.user(search_term)\n",
    "        if seed_user:\n",
    "            print(\"... too many to be useful, still trying '{}' ...\".format(seed_user.login))\n",
    "            displayed_users.add(seed_user)\n",
    "        else:\n",
    "            print(\"... too many to be useful, '{}' is not a user\".format(search_term))\n",
    "    else:\n",
    "        for u in [x for x in unique_users if not x in displayed_users]:\n",
    "            displayed_users.add(u)\n",
    "            user = u.user.refresh()\n",
    "            print(user.login, user.name, user.location, user.email)\n",
    "    if 0 < count <= 10:\n",
    "        return [u.login for u in unique_users]\n",
    "    else:\n",
    "        return []\n",
    "\n",
    "def gather_possibles(seed):\n",
    "    found = set()\n",
    "    maybes = show_users(get_user_counts(seed), seed)\n",
    "    found.update(maybes)\n",
    "    # if it was an email addr, try again with the mailbox name\n",
    "    if '@' in seed:\n",
    "        seed2 = seed.split('@')[0]\n",
    "        print(\"Searching for mailbox name '{}' (gather_possibles)\".format(seed2))\n",
    "        maybes = show_users(get_user_counts(seed2), seed2)\n",
    "        found.update(maybes)\n",
    "    return found\n"
   ]
  },
  {
   "cell_type": "code",
   "execution_count": null,
   "metadata": {
    "hidden": true,
    "init_cell": true
   },
   "outputs": [],
   "source": [
    "class OutsideCollaboratorIterator(github3.structs.GitHubIterator):\n",
    "    def __init__(self, org):\n",
    "        super(OutsideCollaboratorIterator, self).__init__(\n",
    "            count=-1, #get all\n",
    "            url=org.url + \"/outside_collaborators\",\n",
    "            cls=github3.users.ShortUser,\n",
    "            session=org.session,\n",
    "        )\n",
    "\n",
    "@lru_cache(maxsize=32)\n",
    "def get_collaborators(org):\n",
    "    collabs = [x.login.lower() for x in OutsideCollaboratorIterator(org)]\n",
    "    return collabs\n",
    "\n",
    "def is_collaborator(org, login):\n",
    "    return bool(login.lower() in get_collaborators(org))\n",
    "\n",
    "# provide same interface for members -- but the iterator is free :D\n",
    "@lru_cache(maxsize=32)\n",
    "def get_members(org):\n",
    "    collabs = [x.login.lower() for x in org.members()]\n",
    "    return collabs\n",
    "\n",
    "def is_member(org, login):\n",
    "    return bool(login.lower() in get_members(org))"
   ]
  },
  {
   "cell_type": "code",
   "execution_count": null,
   "metadata": {
    "hidden": true,
    "init_cell": true
   },
   "outputs": [],
   "source": [
    "@lru_cache(maxsize=32)\n",
    "def get_org_owners(org):\n",
    "    owners = org.members(role=\"admin\")\n",
    "    logins = [x.login for x in owners]\n",
    "    return logins\n",
    "\n",
    "def check_login_perms(logins):\n",
    "    any_perms = False\n",
    "    for login in logins:\n",
    "        is_collab = False\n",
    "        for org in orgs_to_check:\n",
    "            o = gh.organization(org)\n",
    "            if is_member(o, login):\n",
    "                url = \"https://github.com/orgs/{}/people?utf8=%E2%9C%93&query={}\".format(o.login, login)\n",
    "                print(\"{} has {} as a member: {}\".format(o.login, login, url))\n",
    "                owner_logins =  get_org_owners(o)\n",
    "                is_owner = login in owner_logins\n",
    "                if is_owner:\n",
    "                    print(\"  NOTE: {} is an OWNER of {}\\n\".format(login, org))\n",
    "                is_collab = True\n",
    "            if is_collaborator(o, login):\n",
    "                url = \"https://github.com/orgs/{}/outside-collaborators?utf8=%E2%9C%93&query={}\".format(o.login, login)\n",
    "                print(\"{} has {} as a collaborator: {}\".format(o.login, login, url))\n",
    "                is_collab = True\n",
    "        if is_collab:\n",
    "            any_perms = True\n",
    "        else:\n",
    "            print(\"No permissions found for {}\".format(login))\n",
    "    return any_perms"
   ]
  },
  {
   "cell_type": "code",
   "execution_count": null,
   "metadata": {
    "hidden": true,
    "init_cell": true
   },
   "outputs": [],
   "source": [
    "import re\n",
    "import os\n",
    "\n",
    "re_flags = re.MULTILINE | re.IGNORECASE\n",
    "\n",
    "def process_from_email(email_body):\n",
    "    # get rid of white space\n",
    "    email_body = os.linesep.join(\n",
    "        [s.strip() for s in email_body.splitlines() if s.strip()]\n",
    "    )\n",
    "    if not email_body:\n",
    "        return\n",
    "\n",
    "    user = set()\n",
    "    \n",
    "    # Extract data from internal email format\n",
    "    match = re.search(r'^Full Name: (?P<full_name>\\S.*)$', email_body, re_flags)\n",
    "    if match:\n",
    "        # add base and some variations\n",
    "        full_name = match.group(\"full_name\")\n",
    "        user.add(full_name)\n",
    "        # remove spaces\n",
    "        user.add(full_name.replace(' ', ''))\n",
    "        # reversed no spaces\n",
    "        user.add(''.join(full_name.split()[::-1]))\n",
    "\n",
    "    match = re.search(r'^Email: (?P<primary_email>.*)$', email_body, re_flags)\n",
    "    primary_email = match.group(\"primary_email\") if match else None\n",
    "    user.add(primary_email)\n",
    "    print(\"Check these URLs for Heroku activity:\")\n",
    "    print(\"  Mozillians: https://mozillians.org/en-US/search/?q={}\".format(primary_email.replace('@', '%40')))\n",
    "    print(\"  Heroku: https://dashboard.heroku.com/teams/mozillacorporation/access?filter={}\".format(primary_email.replace('@', '%40')))\n",
    "    print(email_body)\n",
    "\n",
    "    match = re.search(r'^Github Profile: (?P<github_profile>.*)$', email_body, re_flags)\n",
    "    declared_github = match.group(\"github_profile\") if match else None\n",
    "    user.add(declared_github)\n",
    "\n",
    "    match = re.search(r'^Zimbra Alias: (?P<other_email>.*)$', email_body, re_flags)\n",
    "    user.add(match.group(\"other_email\") if match else None)\n",
    "\n",
    "    # new field: Email Alias -- list syntax (brackets)\n",
    "    match = re.search(r'^Email Alias: \\s*\\[(?P<alias_email>.*)\\]', email_body, re_flags)\n",
    "    user.add(match.group(\"alias_email\") if match else None)\n",
    "\n",
    "    # we consider each token in the IM line as a possible GitHub login\n",
    "    match = re.search(r'^IM:\\s*(.*)$', email_body, re_flags)\n",
    "    if match:\n",
    "        im_line = match.groups()[0]\n",
    "        matches = re.finditer(r'\\W*((\\w+)(?:\\s+\\w+)*)', im_line)\n",
    "        user.update([x.group(1) for x in matches] if matches else None)\n",
    "\n",
    "    match = re.search(r'^Bugzilla Email: (?P<bz_email>.*)$', email_body, re_flags)\n",
    "    user.add(match.group(\"bz_email\") if match else None)\n",
    "    \n",
    "    # grab the department name, for a heuristic on whether we expect to find perms\n",
    "    expect_github_login = False\n",
    "    match = re.search(r'^\\s*Dept Name: (?P<dept_name>\\S.*)$', email_body, re_flags)\n",
    "    if match:\n",
    "        department_name = match.groups()[0].lower()\n",
    "        dept_keys_infering_github = [\"firefox\", \"engineering\", \"qa\", \"operations\"]\n",
    "        for key in dept_keys_infering_github:\n",
    "            if key in department_name:\n",
    "                expect_github_login = True\n",
    "                break\n",
    "    \n",
    "\n",
    "    # clean up some noise, case insensitively, \"binary\" markers\n",
    "    user = {x.lower() for x in user if x and (len(x) > 2)}\n",
    "    to_update = [x[2:-1] for x in user if (x.startswith(\"b'\") and x.endswith(\"'\"))]\n",
    "    user.update(to_update)\n",
    "    user = {x for x in user if not (x.startswith(\"b'\") and x.endswith(\"'\"))}\n",
    "\n",
    "    # the tokens to ignore are added based on discovery,\n",
    "    # they tend to cause the searches to get rate limited.\n",
    "    user = user - {None, \"irc\", \"slack\", \"skype\", \"b\", 'hotmail', 'mozilla', 'ro', 'com', 'softvision', 'mail', \n",
    "                  'twitter', 'blog', 'https', 'jabber', 'net', 'github', 'gmail',\n",
    "                  'facebook', 'guy', 'pdx', 'yahoo', 'aim', 'whatsapp', 'gtalk', 'google',\n",
    "                  'gpg', 'telegram'}\n",
    "    global displayed_users\n",
    "    displayed_users = set()\n",
    "    try:\n",
    "        print(\"\\nTrying '{}'\".format(\"', '\".join(user)))\n",
    "        guesses = set()\n",
    "        for term in user:\n",
    "            possibles = gather_possibles(term)\n",
    "            guesses.update({x.lower() for x in possibles})\n",
    "        # include declared_github if it exists\n",
    "        if declared_github:\n",
    "            guesses.add(declared_github.lower())\n",
    "        guesses.update({x.login.lower() for x in displayed_users})\n",
    "        print(\"\\nChecking logins {}\".format(guesses))\n",
    "        found_perms = False\n",
    "        if len(guesses):\n",
    "            found_perms = check_login_perms(guesses)\n",
    "        elif expect_github_login:\n",
    "            print(\"\\nWARNING: expected GitHub login for dept '{}'\".format(department_name))\n",
    "        print(\"Finished all reporting.\")\n",
    "        if declared_github and not found_perms:\n",
    "            # print some text to copy/paste into email\n",
    "            print(\", even for declared login '{}'.\".format(declared_github))\n",
    "        if expect_github_login and not found_perms:\n",
    "            print(\"WARNING: expected GitHub permissions for dept '{}'\".format(department_name))\n",
    "    except github3.exceptions.ForbiddenError as e:\n",
    "        print(\"API limit reached, try again in 5 minutes.\\n\")\n",
    "        print(str(e))\n",
    "        print_limits()\n"
   ]
  },
  {
   "cell_type": "code",
   "execution_count": null,
   "metadata": {},
   "outputs": [],
   "source": [
    "from ipywidgets import interact_manual, Layout, widgets\n",
    "from IPython.display import display\n",
    "   \n",
    "text = widgets.Textarea(\n",
    "    value='email: \\nim: ',\n",
    "    placeholder='Paste ticket description here!',\n",
    "    description='Email body:',\n",
    "    layout=Layout(width='95%'),\n",
    "    disabled=False\n",
    ")\n",
    "\n",
    "run_process = interact_manual.options(manual_name=\"Process\")"
   ]
  },
  {
   "cell_type": "markdown",
   "metadata": {},
   "source": [
    "## Start of common usage\n",
    "\n",
    "Currently, there a two common use cases:\n",
    "- processing an offboarding email, and\n",
    "- adhoc lookup of GitHub login\n",
    "\n",
    "For anything else, you're on your own!\n",
    "\n",
    "All usage requires the following setup:\n",
    "1. Fill in a way to load your PAT token in the first code cell\n",
    "2. Fill in the list of orgs to check in the second code cell"
   ]
  },
  {
   "cell_type": "markdown",
   "metadata": {},
   "source": [
    "### Process offboarding email\n",
    "\n",
    "Usage steps - for each user:\n",
    "    1. Copy entire text of email\n",
    "    2. Paste into the text area below\n",
    "    3. Click the \"Process\" button"
   ]
  },
  {
   "cell_type": "code",
   "execution_count": null,
   "metadata": {
    "scrolled": true
   },
   "outputs": [],
   "source": [
    "@run_process(t=text)\n",
    "def show_matches(t):\n",
    "    process_from_email(t)"
   ]
  },
  {
   "cell_type": "markdown",
   "metadata": {},
   "source": [
    "### Adhoc Lookup\n",
    "\n",
    "Fill in list of the desired logins in the cell below"
   ]
  },
  {
   "cell_type": "code",
   "execution_count": null,
   "metadata": {},
   "outputs": [],
   "source": [
    "check_login_perms([\n",
    "])"
   ]
  },
  {
   "cell_type": "markdown",
   "metadata": {},
   "source": [
    "# To Do\n",
    "\n",
    "- check invites as well, using manage_invitations.py\n",
    "- code doesn't handle hyphenated github logins, e.g. 'marco-c' (gets split)\n",
    "- github lookup should strip https... so can use link from people.m.o\n",
    "- add formatted output summary for copy/paste\n",
    "- dpreston, aka fzzy, doesn't have any GitHub perms\n",
    "- when a guess is multiple words, each word should be tried separately as well\n",
    "\n",
    "- ~~code should always search for stated github, even if search is \"too many\" (e.g. \"past\")~~\n",
    "- ~~does not call out owner status (reports as member)~~\n",
    "- ~~add short ldap name as an \"always check\"~~\n",
    "- ~~always check stem when search gives too many (i.e. go for the exact match)~~\n"
   ]
  }
 ],
 "metadata": {
  "celltoolbar": "Initialization Cell",
  "kernelspec": {
   "display_name": "Python 2",
   "language": "python",
   "name": "python2"
  },
  "language_info": {
   "codemirror_mode": {
    "name": "ipython",
    "version": 2
   },
   "file_extension": ".py",
   "mimetype": "text/x-python",
   "name": "python",
   "nbconvert_exporter": "python",
   "pygments_lexer": "ipython2",
   "version": "2.7.15"
  }
 },
 "nbformat": 4,
 "nbformat_minor": 2
}
